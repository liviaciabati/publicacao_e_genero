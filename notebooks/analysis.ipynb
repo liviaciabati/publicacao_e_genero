{
 "cells": [
  {
   "cell_type": "code",
   "execution_count": null,
   "metadata": {},
   "outputs": [],
   "source": [
    "import pandas as pd\n",
    "import numpy as np\n",
    "import json\n",
    "\n",
    "from os.path import exists, join\n",
    "from matplotlib import pyplot as plt\n",
    "from scipy.stats.mstats import mannwhitneyu\n",
    "from scipy.stats import levene, probplot, shapiro"
   ]
  },
  {
   "cell_type": "code",
   "execution_count": null,
   "metadata": {},
   "outputs": [],
   "source": [
    "with open('../config.json') as f:\n",
    "        config = json.load(f)\n",
    "\n",
    "info_path = config['publons_info']\n",
    "if not exists(info_path):\n",
    "    print('Nenhum dado publons_info a ser analisado.')\n",
    "    \n",
    "info_original_file_path = join(info_path, 'publons_info.csv')\n",
    "if not exists(info_original_file_path):\n",
    "    print('Nenhum dado publons_info a ser analisado.')\n",
    "\n",
    "info_file_path = join(info_path, 'publons_info_unique.csv')\n",
    "if not exists(info_file_path):\n",
    "    print('Nenhum dado publons_info_unique a ser analisado.')\n",
    "    \n",
    "info_file_filtered_path = join(info_path, 'publons_info_unique_filtered.csv')\n",
    "if not exists(info_file_filtered_path):\n",
    "    print('Nenhum dado publons_info_unique_filtered a ser analisado.')\n",
    "    \n",
    "results_path = config['publons_results']\n",
    "if not exists(results_path):\n",
    "    print('Nenhum dado publons_results a ser analisado.')\n",
    "    \n",
    "results_original_file_path = join(results_path, 'results_publons.csv')\n",
    "if not exists(results_original_file_path):\n",
    "    print('Nenhum dado results_publons a ser analisado.')\n",
    "    \n",
    "results_gender_path = join(results_path, 'results_publons_gender.csv')\n",
    "if not exists(results_gender_path):\n",
    "    print('Nenhum dado results_publons_gender a ser analisado.')\n",
    "    \n",
    "results_time_path = join(results_path, 'results_publons_gender_time.csv')\n",
    "if not exists(results_time_path):\n",
    "    print('Nenhum dado results_publons_gender_time a ser analisado.')        \n",
    "    \n",
    "results_file_path = join(results_path, 'results_publons_gender_time_anonymized.csv')\n",
    "if not exists(results_file_path):\n",
    "    print('Nenhum dado results_publons_gender_time_anonymized a ser analisado.')"
   ]
  },
  {
   "cell_type": "markdown",
   "metadata": {},
   "source": [
    "# Estatísticas Básicas da Coleta de Dados"
   ]
  },
  {
   "cell_type": "code",
   "execution_count": null,
   "metadata": {},
   "outputs": [],
   "source": [
    "df_info_original = pd.read_csv(info_original_file_path)\n",
    "df_info_original_size = len(df_info_original.index)\n",
    "print('Docentes da USP: ', df_info_original_size)\n",
    "\n",
    "df_info = pd.read_csv(info_file_path)\n",
    "df_info_size = len(df_info.index)\n",
    "print('Ids Publons existentes e únicos: ', df_info_size)\n",
    "print('Docentes sem ids Publons ou com mais de um registro na USP: ', df_info_original_size - df_info_size)\n",
    "\n",
    "df_info_filtered = pd.read_csv(info_file_filtered_path)\n",
    "df_info_filtered_size = len(df_info_filtered.index)\n",
    "print('Ids Publons filtrados: ', df_info_filtered_size)\n",
    "print('Inconsistência de identidade entre DataUSP e Publons: ', df_info_size - df_info_filtered_size)\n",
    "\n",
    "df_results = pd.read_csv(results_original_file_path)\n",
    "df_results_size = len(df_results.index)\n",
    "print('Dados Publons recuperados: ', df_results_size)\n",
    "print('Docentes com dados Publons não baixados: ', df_info_filtered_size - df_results_size )\n",
    "\n",
    "df_gender = pd.read_csv(results_gender_path)\n",
    "df_gender_size = len(df_gender.index)\n",
    "print('Docentes com gênero encontrado: ', df_gender_size)\n",
    "print('Docentes com informação de gênero não encontrada: ', df_results_size - df_gender_size )\n",
    "\n",
    "df_time = pd.read_csv(results_time_path)\n",
    "df_time_size = len(df_time.index)\n",
    "print('Docentes com tempo de trabalho encontrado: ', df_time_size)\n",
    "print('Docentes com informação de tempo de trabalho não encontrada: ', df_gender_size - df_time_size)"
   ]
  },
  {
   "cell_type": "markdown",
   "metadata": {},
   "source": [
    "# Análise do Resultado Final\n"
   ]
  },
  {
   "cell_type": "markdown",
   "metadata": {},
   "source": [
    "## Estatística Descritiva"
   ]
  },
  {
   "cell_type": "code",
   "execution_count": null,
   "metadata": {},
   "outputs": [],
   "source": [
    "# Banco utilizado para as análises posteriores\n",
    "df = pd.read_csv(results_file_path)\n",
    "df.fillna(0, inplace=True)\n",
    "# Verifica quantos pesquisadores não possuem citações\n",
    "rows_to_drop = df.loc[(df['citations'] == 0) | (df['h_index'] == 0)].index\n",
    "print('Docentes sem citacões ou h_index: ', len(rows_to_drop))\n",
    "df = df.drop(rows_to_drop, axis=0)\n",
    "df_size = len(df.index)\n",
    "print('Banco final: ', df_size)"
   ]
  },
  {
   "cell_type": "code",
   "execution_count": null,
   "metadata": {},
   "outputs": [],
   "source": [
    "all_people = df_size\n",
    "df['gender'].value_counts()\n",
    "men = df['gender'].value_counts()['M']\n",
    "percentage_men = men/all_people*100\n",
    "\n",
    "women = df['gender'].value_counts()['F']\n",
    "percentage_women = women/all_people*100\n",
    "\n",
    "print('Total de Docentes: ', all_people)\n",
    "print('Homens: {} ({} % de {})'.format(men, round(percentage_men,2), all_people))\n",
    "print('Mulheres: {} ({} % de {})'.format(women, round(percentage_women,2), all_people))"
   ]
  },
  {
   "cell_type": "code",
   "execution_count": null,
   "metadata": {},
   "outputs": [],
   "source": [
    "print('Quantidade total com 9 ou menos anos de trabalho: ', len(df.loc[df['time'] < 10].index))\n",
    "print('Quantidade total com 10 a 19 anos de trabalho: ', len(df.loc[(df['time'] < 20) & (df['time'] >= 10)].index))\n",
    "print('Quantidade total com mais 20 ou mais anos de trabalho: ', len(df.loc[df['time'] >= 20].index))"
   ]
  },
  {
   "cell_type": "code",
   "execution_count": null,
   "metadata": {},
   "outputs": [],
   "source": [
    "men_9 = len(df.loc[(df['time'] < 10) & (df['gender'] == 'M')].index)\n",
    "men_10_19 = len(df.loc[(df['time'] < 20) & (df['time'] >= 10) & (df['gender'] == 'M')].index)\n",
    "men_20 = len(df.loc[(df['time'] >= 20) & (df['gender'] == 'M')].index)\n",
    "\n",
    "print('Total de Docentes: ', all_people)\n",
    "print('Homens: {} ({} % de {})'.format(men, round(percentage_men,2), all_people))\n",
    "print('Quantidade de homens com 9 ou menos anos de trabalho: {} ({} porcentagem de {})'\n",
    "      .format(men_9, round(men_9/men*100,2), men))\n",
    "print('Quantidade de homens com 10 a 19 anos de trabalho: {} ({} porcentagem de {})'\n",
    "      .format(men_10_19, round(men_10_19/men*100,2), men))\n",
    "print('Quantidade de homens com 20 ou mais anos de trabalho: {} ({} porcentagem de {})'\n",
    "      .format(men_20, round(men_20/men*100,2), men))"
   ]
  },
  {
   "cell_type": "code",
   "execution_count": null,
   "metadata": {},
   "outputs": [],
   "source": [
    "women_9 = len(df.loc[(df['time'] < 10) & (df['gender'] == 'F')].index)\n",
    "women_10_19 = len(df.loc[(df['time'] < 20) & (df['time'] >= 10) & (df['gender'] == 'F')].index)\n",
    "women_20 = len(df.loc[(df['time'] >= 20) & (df['gender'] == 'F')].index)\n",
    "\n",
    "print('Total de Docentes: ', all_people)\n",
    "print('Mulheres: {} ({} % de {})'.format(women, round(percentage_women,2), all_people))\n",
    "print('Quantidade de mulheres com 9 ou menos anos de trabalho: {} ({} porcentagem de {})'\n",
    "      .format(women_9, round(women_9/women*100,2), women))\n",
    "print('Quantidade de mulheres com 10 a 19 anos de trabalho: {} ({} porcentagem de {})'\n",
    "      .format(women_10_19, round(women_10_19/women*100,2), women))\n",
    "print('Quantidade de mulheres com mais de 20 anos de trabalho: {} ({} porcentagem de {})'\n",
    "      .format(women_20, round(women_20/women*100,2), women))"
   ]
  },
  {
   "cell_type": "markdown",
   "metadata": {},
   "source": [
    "# Exploração dos Dados e Verificação da Distribuição"
   ]
  },
  {
   "cell_type": "code",
   "execution_count": null,
   "metadata": {},
   "outputs": [],
   "source": [
    "df.head(2)"
   ]
  },
  {
   "cell_type": "code",
   "execution_count": null,
   "metadata": {},
   "outputs": [],
   "source": [
    "df.describe()"
   ]
  },
  {
   "cell_type": "code",
   "execution_count": null,
   "metadata": {},
   "outputs": [],
   "source": [
    "df[['wos_publications','citations','citations_per_item','citations_per_year','h_index','time']].hist(figsize=(12,10))"
   ]
  },
  {
   "cell_type": "code",
   "execution_count": null,
   "metadata": {},
   "outputs": [],
   "source": [
    "df['gender'].value_counts().plot(kind='bar')"
   ]
  },
  {
   "cell_type": "markdown",
   "metadata": {},
   "source": [
    "## Verificação da não normalidade nos dados com Q-Q Plots e Shapiro Test\n",
    "alpha < 0.01"
   ]
  },
  {
   "cell_type": "code",
   "execution_count": null,
   "metadata": {},
   "outputs": [],
   "source": [
    "probplot(df['wos_publications'], dist=\"norm\", plot=plt)\n",
    "plt.title(\"Normal Q-Q plot - Publications\")\n",
    "plt.show()\n",
    "probplot(df['citations'], dist=\"norm\", plot=plt)\n",
    "plt.title(\"Normal Q-Q plot - Citations\")\n",
    "plt.show()\n",
    "probplot(df['citations'], dist=\"norm\", plot=plt)\n",
    "plt.title(\"Normal Q-Q plot - H-Index\")\n",
    "plt.show()"
   ]
  },
  {
   "cell_type": "code",
   "execution_count": null,
   "metadata": {},
   "outputs": [],
   "source": [
    "print('Análise de normalidade nos dados: ')\n",
    "print('Publicações')\n",
    "print(shapiro(df['wos_publications']))\n",
    "print('Citações')\n",
    "print(shapiro(df['citations']))\n",
    "print('Citações por Item')\n",
    "print(shapiro(df['citations_per_item']))\n",
    "print('Citações por Ano')\n",
    "print(shapiro(df['citations_per_year']))\n",
    "print('H-Index')\n",
    "print(shapiro(df['h_index']))"
   ]
  },
  {
   "cell_type": "markdown",
   "metadata": {},
   "source": [
    "#### Os resultados claramente apontam para uma distribuição não normal."
   ]
  },
  {
   "cell_type": "markdown",
   "metadata": {},
   "source": [
    "## Check for Lognormality\n",
    "https://journals.plos.org/plosone/article?id=10.1371/journal.pone.0146762\n",
    "\n",
    "\"For institutions, it seems to fit roughly to a log-normal function. The largest citations, however, deviate from the lognormal fit, and follow a power law decay.\""
   ]
  },
  {
   "cell_type": "code",
   "execution_count": null,
   "metadata": {},
   "outputs": [],
   "source": [
    "df['index'] = df.index\n",
    "df['wos_publications_log'] = np.log(df.wos_publications)\n",
    "df['citations_log'] = np.log(df.citations)\n",
    "df['citations_per_item_log'] = np.log(df.citations_per_item)\n",
    "df['citations_per_year_log'] = np.log(df.citations_per_year)\n",
    "df['h_index_log'] = np.log(df.h_index)"
   ]
  },
  {
   "cell_type": "markdown",
   "metadata": {},
   "source": [
    "### Histogramas"
   ]
  },
  {
   "cell_type": "code",
   "execution_count": null,
   "metadata": {},
   "outputs": [],
   "source": [
    "df['wos_publications_log'].hist(figsize=(5,5))\n",
    "plt.show()\n",
    "df['citations_log'].hist(figsize=(5,5))\n",
    "plt.show()\n",
    "df['citations_per_item_log'].hist(figsize=(5,5))\n",
    "plt.show()\n",
    "df['citations_per_year_log'].hist(figsize=(5,5))\n",
    "plt.show()\n",
    "df['h_index_log'].hist(figsize=(5,5))\n",
    "plt.show()"
   ]
  },
  {
   "cell_type": "markdown",
   "metadata": {},
   "source": [
    "### Scatter Plots (Verificação de Outliers)"
   ]
  },
  {
   "cell_type": "code",
   "execution_count": null,
   "metadata": {},
   "outputs": [],
   "source": [
    "df.plot.scatter(x='index', y='wos_publications_log', figsize=(10,5))\n",
    "df.plot.scatter(x='index', y='citations_log', figsize=(10,5))\n",
    "df.plot.scatter(x='index', y='citations_per_item_log', figsize=(10,5))\n",
    "df.plot.scatter(x='index', y='citations_per_year_log', figsize=(10,5))\n",
    "df.plot.scatter(x='index', y='h_index_log', figsize=(10,5))"
   ]
  },
  {
   "cell_type": "markdown",
   "metadata": {},
   "source": [
    "### Análise de normalidade nos dados logarítimicos (Q-Q Plot):\n",
    "https://pdfs.semanticscholar.org/f2b9/98d29492e9b0a234bf13adc3fa8c9ae6ab32.pdf"
   ]
  },
  {
   "cell_type": "code",
   "execution_count": null,
   "metadata": {},
   "outputs": [],
   "source": [
    "probplot(df['wos_publications_log'], dist=\"norm\", plot=plt)\n",
    "plt.title(\"Normal Q-Q plot - Publications\")\n",
    "plt.show()\n",
    "probplot(df['citations_log'], dist=\"norm\", plot=plt)\n",
    "plt.title(\"Normal Q-Q plot - Citations\")\n",
    "plt.show()\n",
    "probplot(df['citations_log'], dist=\"norm\", plot=plt)\n",
    "plt.title(\"Normal Q-Q plot - H-Index\")\n",
    "plt.show()"
   ]
  },
  {
   "cell_type": "markdown",
   "metadata": {},
   "source": [
    "### Análise de normalidade nos dados logarítimicos (Shapiro Test):\n",
    "a < 0.01"
   ]
  },
  {
   "cell_type": "code",
   "execution_count": null,
   "metadata": {},
   "outputs": [],
   "source": [
    "print('Publicações')\n",
    "print(shapiro(df['wos_publications_log']))\n",
    "print('Citações')\n",
    "print(shapiro(df['citations_log']))\n",
    "print('Citações por Item')\n",
    "print(shapiro(df['citations_per_item_log']))\n",
    "print('Citações por Ano')\n",
    "print(shapiro(df['citations_per_year_log']))\n",
    "print('H-Index')\n",
    "print(shapiro(df['h_index_log']))"
   ]
  },
  {
   "cell_type": "markdown",
   "metadata": {},
   "source": [
    "#### Os dados indicam que mesmo com os dados transformados para escala log natural, eles ainda não seguem uma distribuição normal."
   ]
  },
  {
   "cell_type": "markdown",
   "metadata": {},
   "source": [
    "# Análise Por Gênero"
   ]
  },
  {
   "cell_type": "markdown",
   "metadata": {},
   "source": [
    "## Estatística Descritiva"
   ]
  },
  {
   "cell_type": "code",
   "execution_count": null,
   "metadata": {},
   "outputs": [],
   "source": [
    "display(df.groupby(by='gender')['wos_publications'].describe())\n",
    "display(df.groupby(by='gender')['wos_publications'].var())\n",
    "display(df.groupby(by='gender')['wos_publications_log'].var())\n",
    "print('Citações')\n",
    "display(df.groupby(by='gender').describe()['citations'])\n",
    "display(df.groupby(by='gender')['citations'].var())\n",
    "display(df.groupby(by='gender')['citations_log'].var())\n",
    "print('Citações por item')\n",
    "display(df.groupby(by='gender').describe()['citations_per_item'])\n",
    "display(df.groupby(by='gender')['citations_per_item'].var())\n",
    "display(df.groupby(by='gender')['citations_per_item_log'].var())\n",
    "print('Citações por ano')\n",
    "display(df.groupby(by='gender').describe()['citations_per_year'])\n",
    "display(df.groupby(by='gender')['citations_per_year'].var())\n",
    "display(df.groupby(by='gender')['citations_per_year_log'].var())\n",
    "print('H-Index')\n",
    "display(df.groupby(by='gender').describe()['h_index'])\n",
    "display(df.groupby(by='gender')['h_index'].var())\n",
    "display(df.groupby(by='gender')['h_index_log'].var())"
   ]
  },
  {
   "cell_type": "code",
   "execution_count": null,
   "metadata": {},
   "outputs": [],
   "source": [
    "men = df.loc[df['gender'] == 'M']\n",
    "women = df.loc[df['gender'] == 'F']"
   ]
  },
  {
   "cell_type": "markdown",
   "metadata": {},
   "source": [
    "## Publicações, Citações e H-Index por Gênero e Tempo de Trabalho"
   ]
  },
  {
   "cell_type": "code",
   "execution_count": null,
   "metadata": {},
   "outputs": [],
   "source": [
    "men.groupby('time')['wos_publications'].mean().plot(figsize=(10,5))\n",
    "women.groupby('time')['wos_publications'].mean().plot()\n",
    "plt.legend(['M','F'])\n",
    "plt.title('Publicações por Gênero e Tempo de Trabalho')\n",
    "plt.show()\n",
    "\n",
    "men.groupby('time')['citations'].mean().plot(figsize=(10,5))\n",
    "women.groupby('time')['citations'].mean().plot()\n",
    "plt.legend(['M','F'])\n",
    "plt.title('Citações por Gênero e Tempo de Trabalho')\n",
    "plt.show()\n",
    "\n",
    "men.groupby('time')['citations_per_item'].mean().plot(figsize=(10,5))\n",
    "women.groupby('time')['citations_per_item'].mean().plot()\n",
    "plt.legend(['M','F'])\n",
    "plt.title('Citações por Item por Gênero e Tempo de Trabalho')\n",
    "plt.show()\n",
    "\n",
    "men.groupby('time')['citations_per_year'].mean().plot(figsize=(10,5))\n",
    "women.groupby('time')['citations_per_year'].mean().plot()\n",
    "plt.legend(['M','F'])\n",
    "plt.title('Citações por Ano por Gênero e Tempo de Trabalho')\n",
    "plt.show()\n",
    "\n",
    "men.groupby('time')['h_index'].mean().plot(figsize=(10,5))\n",
    "women.groupby('time')['h_index'].mean().plot()\n",
    "plt.legend(['M','F'])\n",
    "plt.title('H-Index por Gênero e Tempo de Trabalho')\n",
    "plt.show()"
   ]
  },
  {
   "cell_type": "markdown",
   "metadata": {},
   "source": [
    "## Histogramas de cada gênero Lognormal"
   ]
  },
  {
   "cell_type": "code",
   "execution_count": null,
   "metadata": {},
   "outputs": [],
   "source": [
    "women['wos_publications_log'].hist(figsize=(5,5))\n",
    "plt.show()\n",
    "men['citations_log'].hist(figsize=(5,5))\n",
    "women['citations_log'].hist(figsize=(5,5))\n",
    "plt.show()\n",
    "men['citations_per_item_log'].hist(figsize=(5,5))\n",
    "women['citations_per_item_log'].hist(figsize=(5,5))\n",
    "plt.show()\n",
    "men['citations_per_year_log'].hist(figsize=(5,5))\n",
    "women['citations_per_year_log'].hist(figsize=(5,5))\n",
    "plt.show()\n",
    "men['h_index_log'].hist(figsize=(5,5))\n",
    "women['h_index_log'].hist(figsize=(5,5))"
   ]
  },
  {
   "cell_type": "markdown",
   "metadata": {},
   "source": [
    "## Boxplots"
   ]
  },
  {
   "cell_type": "code",
   "execution_count": null,
   "metadata": {},
   "outputs": [],
   "source": [
    "df[['gender','wos_publications_log']].groupby(by='gender').boxplot(figsize=(10,5))\n",
    "df[['gender','citations_log']].groupby(by='gender').boxplot(figsize=(10,5))\n",
    "df[['gender','citations_per_year_log']].groupby(by='gender').boxplot(figsize=(10,5))\n",
    "df[['gender','citations_per_item_log']].groupby(by='gender').boxplot(figsize=(10,5))"
   ]
  },
  {
   "cell_type": "markdown",
   "metadata": {},
   "source": [
    "## Análise de normalidade nos dados logarítimicos\n",
    "alpha < 0.01"
   ]
  },
  {
   "cell_type": "code",
   "execution_count": null,
   "metadata": {},
   "outputs": [],
   "source": [
    "print('Homens')\n",
    "print('Publicações')\n",
    "print(shapiro(men['wos_publications_log']))\n",
    "print('Citações')\n",
    "print(shapiro(men['citations_log']))\n",
    "print('Citações por Item')\n",
    "print(shapiro(men['citations_per_item_log']))\n",
    "print('Citações por Ano')\n",
    "print(shapiro(men['citations_per_year_log']))\n",
    "print('H-Index')\n",
    "print(shapiro(men['h_index_log']))\n",
    "\n",
    "print('\\nMulheres')\n",
    "print('Publicações')\n",
    "print(shapiro(women['wos_publications_log']))\n",
    "print('Citações')\n",
    "print(shapiro(women['citations_log']))\n",
    "print('Citações por Item')\n",
    "print(shapiro(women['citations_per_item_log']))\n",
    "print('Citações por Ano')\n",
    "print(shapiro(women['citations_per_year_log']))\n",
    "print('H-Index')\n",
    "print(shapiro(women['h_index_log']))"
   ]
  },
  {
   "cell_type": "markdown",
   "metadata": {},
   "source": [
    "## Teste Estatístico\n",
    "### Análise de diferença de variância\n",
    "alpha < 0.01"
   ]
  },
  {
   "cell_type": "code",
   "execution_count": null,
   "metadata": {},
   "outputs": [],
   "source": [
    "print('Publicações')\n",
    "print(levene(men['wos_publications_log'], women['wos_publications_log']))\n",
    "print('Citações')\n",
    "print(levene(men['citations_log'], women['citations_log']))\n",
    "print('Citações por Item')\n",
    "print(levene(men['citations_per_item_log'], women['citations_per_item_log']))\n",
    "print('Citações por Ano')\n",
    "print(levene(men['citations_per_year_log'], women['citations_per_year_log']))\n",
    "print('H-Index')\n",
    "print(levene(men['h_index_log'], women['h_index_log']))"
   ]
  },
  {
   "cell_type": "markdown",
   "metadata": {},
   "source": [
    "### Uso do Mann Whitney Test \n",
    "#### Já que os dados não são normalmente distribuídos e há diferenças na variância em alguns caso.\n",
    "\n",
    "alpha < 0.01"
   ]
  },
  {
   "cell_type": "code",
   "execution_count": null,
   "metadata": {},
   "outputs": [],
   "source": [
    "print('Dados na escala Log \\n')\n",
    "test_wos_log = mannwhitneyu(men['wos_publications_log'], women['wos_publications_log'])\n",
    "test_citations_log = mannwhitneyu(men['citations_log'], women['citations_log'])\n",
    "test_citations_per_item_log = mannwhitneyu(men['citations_per_item_log'], women['citations_per_item_log'])\n",
    "test_citations_per_year_log = mannwhitneyu(men['citations_per_year_log'], women['citations_per_year_log'])\n",
    "test_h_index_log = mannwhitneyu(men['h_index_log'], women['h_index_log'])\n",
    "\n",
    "print('Publicações')\n",
    "print(test_wos_log)\n",
    "print('Citações')\n",
    "print(test_citations_log)\n",
    "print('Citações por item')\n",
    "print(test_citations_per_item_log)\n",
    "print('Citações por ano')\n",
    "print(test_citations_per_year_log)\n",
    "print('H-index')\n",
    "print(test_h_index_log)"
   ]
  },
  {
   "cell_type": "markdown",
   "metadata": {},
   "source": [
    "# Por Gênero e Tempo de Trabalho"
   ]
  },
  {
   "cell_type": "markdown",
   "metadata": {},
   "source": [
    "## Estatística Descritiva"
   ]
  },
  {
   "cell_type": "code",
   "execution_count": null,
   "metadata": {},
   "outputs": [],
   "source": [
    "years_9 = df.loc[(df['time'] < 10)]\n",
    "years_10_19 = df.loc[(df['time'] < 20) & (df['time'] >= 10)]\n",
    "years_20 = df.loc[(df['time'] >= 20)]"
   ]
  },
  {
   "cell_type": "code",
   "execution_count": null,
   "metadata": {},
   "outputs": [],
   "source": [
    "print('Publicações')\n",
    "display(years_9.groupby(by='gender').describe()['wos_publications'])\n",
    "print('Citações')\n",
    "display(years_9.groupby(by='gender').describe()['citations'])\n",
    "print('Citações por item')\n",
    "display(years_9.groupby(by='gender').describe()['citations_per_item'])\n",
    "print('Citações por ano')\n",
    "display(years_9.groupby(by='gender').describe()['citations_per_year'])\n",
    "print('H-Index')\n",
    "display(years_9.groupby(by='gender').describe()['h_index'])"
   ]
  },
  {
   "cell_type": "code",
   "execution_count": null,
   "metadata": {},
   "outputs": [],
   "source": [
    "print('Publicações')\n",
    "display(years_10_19.groupby(by='gender').describe()['wos_publications'])\n",
    "print('Citações')\n",
    "display(years_10_19.groupby(by='gender').describe()['citations'])\n",
    "print('Citações por item')\n",
    "display(years_10_19.groupby(by='gender').describe()['citations_per_item'])\n",
    "print('Citações por ano')\n",
    "display(years_10_19.groupby(by='gender').describe()['citations_per_year'])\n",
    "print('H-Index')\n",
    "display(years_10_19.groupby(by='gender').describe()['h_index'])"
   ]
  },
  {
   "cell_type": "code",
   "execution_count": null,
   "metadata": {},
   "outputs": [],
   "source": [
    "print('Publicações')\n",
    "display(years_20.groupby(by='gender').describe()['wos_publications'])\n",
    "print('Citações')\n",
    "display(years_20.groupby(by='gender').describe()['citations'])\n",
    "print('Citações por item')\n",
    "display(years_20.groupby(by='gender').describe()['citations_per_item'])\n",
    "print('Citações por ano')\n",
    "display(years_20.groupby(by='gender').describe()['citations_per_year'])\n",
    "print('H-Index')\n",
    "display(years_20.groupby(by='gender').describe()['h_index'])"
   ]
  },
  {
   "cell_type": "markdown",
   "metadata": {},
   "source": [
    "## Boxplots"
   ]
  },
  {
   "cell_type": "code",
   "execution_count": null,
   "metadata": {},
   "outputs": [],
   "source": [
    "years_9[['gender','wos_publications_log']].groupby(by='gender').boxplot(figsize=(10,5))\n",
    "years_9[['gender','citations_log']].groupby(by='gender').boxplot(figsize=(10,5))\n",
    "years_9[['gender','citations_per_item_log']].groupby(by='gender').boxplot(figsize=(10,5))\n",
    "years_9[['gender','citations_per_year_log']].groupby(by='gender').boxplot(figsize=(10,5))\n",
    "years_9[['gender','h_index_log']].groupby(by='gender').boxplot(figsize=(10,5))"
   ]
  },
  {
   "cell_type": "code",
   "execution_count": null,
   "metadata": {},
   "outputs": [],
   "source": [
    "years_10_19[['gender','wos_publications_log']].groupby(by='gender').boxplot(figsize=(10,5))\n",
    "years_10_19[['gender','citations_log']].groupby(by='gender').boxplot(figsize=(10,5))\n",
    "years_10_19[['gender','citations_per_item_log']].groupby(by='gender').boxplot(figsize=(10,5))\n",
    "years_10_19[['gender','citations_per_year_log']].groupby(by='gender').boxplot(figsize=(10,5))\n",
    "years_10_19[['gender','h_index_log']].groupby(by='gender').boxplot(figsize=(10,5))"
   ]
  },
  {
   "cell_type": "code",
   "execution_count": null,
   "metadata": {},
   "outputs": [],
   "source": [
    "years_20[['gender','wos_publications_log']].groupby(by='gender').boxplot(figsize=(10,5))\n",
    "years_20[['gender','citations_log']].groupby(by='gender').boxplot(figsize=(10,5))\n",
    "years_20[['gender','citations_per_item_log']].groupby(by='gender').boxplot(figsize=(10,5))\n",
    "years_20[['gender','citations_per_year_log']].groupby(by='gender').boxplot(figsize=(10,5))\n",
    "years_20[['gender','h_index_log']].groupby(by='gender').boxplot(figsize=(10,5))"
   ]
  },
  {
   "cell_type": "markdown",
   "metadata": {},
   "source": [
    "## Testes Estatísticos\n",
    "alpha < 0.01"
   ]
  },
  {
   "cell_type": "markdown",
   "metadata": {},
   "source": [
    "### 0-10 Anos de trabalho"
   ]
  },
  {
   "cell_type": "code",
   "execution_count": null,
   "metadata": {},
   "outputs": [],
   "source": [
    "men = years_9.loc[(years_9['gender'] == 'M')]\n",
    "women = years_9.loc[(years_9['gender'] == 'F')]\n",
    "\n",
    "men['wos_publications_log'].hist(figsize=(5,5))\n",
    "women['wos_publications_log'].hist(figsize=(5,5))\n",
    "plt.show()\n",
    "men['citations_log'].hist(figsize=(5,5))\n",
    "women['citations_log'].hist(figsize=(5,5))\n",
    "plt.show()\n",
    "men['citations_per_item_log'].hist(figsize=(5,5))\n",
    "women['citations_per_item_log'].hist(figsize=(5,5))\n",
    "plt.show()\n",
    "men['citations_per_year_log'].hist(figsize=(5,5))\n",
    "women['citations_per_year_log'].hist(figsize=(5,5))\n",
    "plt.show()\n",
    "men['h_index_log'].hist(figsize=(5,5))\n",
    "women['h_index_log'].hist(figsize=(5,5))\n",
    "plt.show()\n",
    "\n",
    "print('Análise de normalidade (Shapiro Test)')\n",
    "print('\\nHomens')\n",
    "print('Publicações')\n",
    "print(shapiro(men['wos_publications_log']))\n",
    "print('Citações')\n",
    "print(shapiro(men['citations_log']))\n",
    "print('Citações por Item')\n",
    "print(shapiro(men['citations_per_item_log']))\n",
    "print('Citações por Ano')\n",
    "print(shapiro(men['citations_per_year_log']))\n",
    "print('H-Index')\n",
    "print(shapiro(men['h_index_log']))\n",
    "\n",
    "print('\\nMulheres')\n",
    "print('Publicações')\n",
    "print(shapiro(women['wos_publications_log']))\n",
    "print('Citações')\n",
    "print(shapiro(women['citations_log']))\n",
    "print('Citações por Item')\n",
    "print(shapiro(women['citations_per_item_log']))\n",
    "print('Citações por Ano')\n",
    "print(shapiro(women['citations_per_year_log']))\n",
    "print('H-Index')\n",
    "print(shapiro(women['h_index_log']))\n",
    "\n",
    "print('\\nAnálise de diferença de variância (Levene)')\n",
    "print('Publicações')\n",
    "print(levene(men['wos_publications_log'], women['wos_publications_log']))\n",
    "print('Citações')\n",
    "print(levene(men['citations_log'], women['citations_log']))\n",
    "print('Citações por Item')\n",
    "print(levene(men['citations_per_item_log'], women['citations_per_item_log']))\n",
    "print('Citações por Ano')\n",
    "print(levene(men['citations_per_year_log'], women['citations_per_year_log']))\n",
    "print('H-Index')\n",
    "print(levene(men['h_index_log'], women['h_index_log']))\n",
    "\n",
    "print('\\n')\n",
    "print('Mann Whitney U')\n",
    "test_wos_log = mannwhitneyu(men['wos_publications_log'], women['wos_publications_log'])\n",
    "test_citations_log = mannwhitneyu(men['citations_log'], women['citations_log'])\n",
    "test_citations_per_item_log = mannwhitneyu(men['citations_per_item_log'], women['citations_per_item_log'])\n",
    "test_citations_per_year_log = mannwhitneyu(men['citations_per_year_log'], women['citations_per_year_log'])\n",
    "test_h_index_log = mannwhitneyu(men['h_index_log'], women['h_index_log'])\n",
    "\n",
    "print('Publicações')\n",
    "print(test_wos_log)\n",
    "print('Citações')\n",
    "print(test_citations_log)\n",
    "print('Citações por item')\n",
    "print(test_citations_per_item_log)\n",
    "print('Citações por ano')\n",
    "print(test_citations_per_year_log)\n",
    "print('H-index')\n",
    "print(test_h_index_log)"
   ]
  },
  {
   "cell_type": "markdown",
   "metadata": {},
   "source": [
    "### 10-19 Anos de Trabalho"
   ]
  },
  {
   "cell_type": "code",
   "execution_count": null,
   "metadata": {},
   "outputs": [],
   "source": [
    "men = years_10_19.loc[(years_10_19['gender'] == 'M')]\n",
    "women = years_10_19.loc[(years_10_19['gender'] == 'F')]\n",
    "\n",
    "men['wos_publications_log'].hist(figsize=(5,5))\n",
    "women['wos_publications_log'].hist(figsize=(5,5))\n",
    "plt.show()\n",
    "men['citations_log'].hist(figsize=(5,5))\n",
    "women['citations_log'].hist(figsize=(5,5))\n",
    "plt.show()\n",
    "men['citations_per_item_log'].hist(figsize=(5,5))\n",
    "women['citations_per_item_log'].hist(figsize=(5,5))\n",
    "plt.show()\n",
    "men['citations_per_year_log'].hist(figsize=(5,5))\n",
    "women['citations_per_year_log'].hist(figsize=(5,5))\n",
    "plt.show()\n",
    "men['h_index_log'].hist(figsize=(5,5))\n",
    "women['h_index_log'].hist(figsize=(5,5))\n",
    "plt.show()\n",
    "\n",
    "print('Análise de normalidade (Shapiro Test)')\n",
    "print('\\nHomens')\n",
    "print('Publicações')\n",
    "print(shapiro(men['wos_publications_log']))\n",
    "print('Citações')\n",
    "print(shapiro(men['citations_log']))\n",
    "print('Citações por Item')\n",
    "print(shapiro(men['citations_per_item_log']))\n",
    "print('Citações por Ano')\n",
    "print(shapiro(men['citations_per_year_log']))\n",
    "print('H-Index')\n",
    "print(shapiro(men['h_index_log']))\n",
    "\n",
    "print('\\nMulheres')\n",
    "print('Publicações')\n",
    "print(shapiro(women['wos_publications_log']))\n",
    "print('Citações')\n",
    "print(shapiro(women['citations_log']))\n",
    "print('Citações por Item')\n",
    "print(shapiro(women['citations_per_item_log']))\n",
    "print('Citações por Ano')\n",
    "print(shapiro(women['citations_per_year_log']))\n",
    "print('H-Index')\n",
    "print(shapiro(women['h_index_log']))\n",
    "\n",
    "print('\\nAnálise de diferença de variância (Levene)')\n",
    "print('Publicações')\n",
    "print(levene(men['wos_publications_log'], women['wos_publications_log']))\n",
    "print('Citações')\n",
    "print(levene(men['citations_log'], women['citations_log']))\n",
    "print('Citações por Item')\n",
    "print(levene(men['citations_per_item_log'], women['citations_per_item_log']))\n",
    "print('Citações por Ano')\n",
    "print(levene(men['citations_per_year_log'], women['citations_per_year_log']))\n",
    "print('H-Index')\n",
    "print(levene(men['h_index_log'], women['h_index_log']))\n",
    "\n",
    "print('\\n')\n",
    "print('Mann Whitney U')\n",
    "test_wos_log = mannwhitneyu(men['wos_publications_log'], women['wos_publications_log'])\n",
    "test_citations_log = mannwhitneyu(men['citations_log'], women['citations_log'])\n",
    "test_citations_per_item_log = mannwhitneyu(men['citations_per_item_log'], women['citations_per_item_log'])\n",
    "test_citations_per_year_log = mannwhitneyu(men['citations_per_year_log'], women['citations_per_year_log'])\n",
    "test_h_index_log = mannwhitneyu(men['h_index_log'], women['h_index_log'])\n",
    "\n",
    "print('Publicações')\n",
    "print(test_wos_log)\n",
    "print('Citações')\n",
    "print(test_citations_log)\n",
    "print('Citações por item')\n",
    "print(test_citations_per_item_log)\n",
    "print('Citações por ano')\n",
    "print(test_citations_per_year_log)\n",
    "print('H-index')\n",
    "print(test_h_index_log)"
   ]
  },
  {
   "cell_type": "markdown",
   "metadata": {},
   "source": [
    "### 20 ou mais Anos de Trabalho"
   ]
  },
  {
   "cell_type": "code",
   "execution_count": null,
   "metadata": {},
   "outputs": [],
   "source": [
    "men = years_20.loc[(years_20['gender'] == 'M')]\n",
    "women = years_20.loc[(years_20['gender'] == 'F')]\n",
    "\n",
    "men['wos_publications_log'].hist(figsize=(5,5))\n",
    "women['wos_publications_log'].hist(figsize=(5,5))\n",
    "plt.show()\n",
    "men['citations_log'].hist(figsize=(5,5))\n",
    "women['citations_log'].hist(figsize=(5,5))\n",
    "plt.show()\n",
    "men['citations_per_item_log'].hist(figsize=(5,5))\n",
    "women['citations_per_item_log'].hist(figsize=(5,5))\n",
    "plt.show()\n",
    "men['citations_per_year_log'].hist(figsize=(5,5))\n",
    "women['citations_per_year_log'].hist(figsize=(5,5))\n",
    "plt.show()\n",
    "men['h_index_log'].hist(figsize=(5,5))\n",
    "women['h_index_log'].hist(figsize=(5,5))\n",
    "plt.show()\n",
    "\n",
    "print('Análise de normalidade (Shapiro Test)')\n",
    "print('\\nHomens')\n",
    "print('Publicações')\n",
    "print(shapiro(men['wos_publications_log']))\n",
    "print('Citações')\n",
    "print(shapiro(men['citations_log']))\n",
    "print('Citações por Item')\n",
    "print(shapiro(men['citations_per_item_log']))\n",
    "print('Citações por Ano')\n",
    "print(shapiro(men['citations_per_year_log']))\n",
    "print('H-Index')\n",
    "print(shapiro(men['h_index_log']))\n",
    "\n",
    "print('\\nMulheres')\n",
    "print('Publicações')\n",
    "print(shapiro(women['wos_publications_log']))\n",
    "print('Citações')\n",
    "print(shapiro(women['citations_log']))\n",
    "print('Citações por Item')\n",
    "print(shapiro(women['citations_per_item_log']))\n",
    "print('Citações por Ano')\n",
    "print(shapiro(women['citations_per_year_log']))\n",
    "print('H-Index')\n",
    "print(shapiro(women['h_index_log']))\n",
    "\n",
    "print('\\nAnálise de diferença de variância (Levene)')\n",
    "print('Publicações')\n",
    "print(levene(men['wos_publications_log'], women['wos_publications_log']))\n",
    "print('Citações')\n",
    "print(levene(men['citations_log'], women['citations_log']))\n",
    "print('Citações por Item')\n",
    "print(levene(men['citations_per_item_log'], women['citations_per_item_log']))\n",
    "print('Citações por Ano')\n",
    "print(levene(men['citations_per_year_log'], women['citations_per_year_log']))\n",
    "print('H-Index')\n",
    "print(levene(men['h_index_log'], women['h_index_log']))\n",
    "\n",
    "print('\\n')\n",
    "print('Mann Whitney U')\n",
    "test_wos_log = mannwhitneyu(men['wos_publications_log'], women['wos_publications_log'])\n",
    "test_citations_log = mannwhitneyu(men['citations_log'], women['citations_log'])\n",
    "test_citations_per_item_log = mannwhitneyu(men['citations_per_item_log'], women['citations_per_item_log'])\n",
    "test_citations_per_year_log = mannwhitneyu(men['citations_per_year_log'], women['citations_per_year_log'])\n",
    "test_h_index_log = mannwhitneyu(men['h_index_log'], women['h_index_log'])\n",
    "\n",
    "print('Publicações')\n",
    "print(test_wos_log)\n",
    "print('Citações')\n",
    "print(test_citations_log)\n",
    "print('Citações por item')\n",
    "print(test_citations_per_item_log)\n",
    "print('Citações por ano')\n",
    "print(test_citations_per_year_log)\n",
    "print('H-index')\n",
    "print(test_h_index_log)"
   ]
  }
 ],
 "metadata": {
  "kernelspec": {
   "display_name": "Python 3",
   "language": "python",
   "name": "python3"
  },
  "language_info": {
   "codemirror_mode": {
    "name": "ipython",
    "version": 3
   },
   "file_extension": ".py",
   "mimetype": "text/x-python",
   "name": "python",
   "nbconvert_exporter": "python",
   "pygments_lexer": "ipython3",
   "version": "3.6.6"
  }
 },
 "nbformat": 4,
 "nbformat_minor": 4
}
